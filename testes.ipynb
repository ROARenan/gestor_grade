{
 "cells": [
  {
   "cell_type": "markdown",
   "metadata": {},
   "source": [
    "# Renan"
   ]
  },
  {
   "cell_type": "markdown",
   "metadata": {},
   "source": [
    "### Tratamento de dados"
   ]
  },
  {
   "cell_type": "code",
   "execution_count": 5,
   "metadata": {},
   "outputs": [],
   "source": [
    "from selenium import webdriver\n",
    "from selenium.webdriver.common.keys import Keys\n",
    "from selenium.webdriver.common.by import By\n",
    "from selenium.webdriver.firefox.service import Service\n",
    "import os\n",
    "import time\n",
    "\n",
    "while True:\n",
    "    \n",
    "    #Lendo RA do caboclo\n",
    "    ra = int(input(\"Qual seria seu RA?\\n\"))\n",
    "\n",
    "    #Parar programa se RA = 0\n",
    "    if ra == 0:\n",
    "        break\n",
    "    \n",
    "    #geckodriver_path = os.path.abspath(\"geckodriver\")\n",
    "    #Mostrar para a Kitty jeito mais bonitinho\n",
    "    url = f\"https://minhagrade-ufabc.up.railway.app/?ra={ra}\"\n",
    "    service = Service(executable_path=\"geckodriver\")\n",
    "    options = webdriver.FirefoxOptions()\n",
    "\n",
    "    driver = webdriver.Firefox(service= service, options= options)\n",
    "    \n",
    "    driver.get(url)"
   ]
  },
  {
   "cell_type": "code",
   "execution_count": 14,
   "metadata": {},
   "outputs": [
    {
     "name": "stdout",
     "output_type": "stream",
     "text": [
      "Total tables: 2\n",
      "Introdução às Equações Diferenciais Ordinárias B3 (SA) • A-108-0\n",
      "nan\n"
     ]
    }
   ],
   "source": [
    "import pandas as pd\n",
    "import numpy as np\n",
    "import matplotlib.pyplot as plt\n",
    "from unicodedata import normalize\n",
    "from datetime import datetime\n",
    "\n",
    "now = datetime.now()\n",
    "\n",
    "ra = input(\"Digite o seu RA: \")\n",
    "\n",
    "tables = pd.read_html(f'https://minhagrade-ufabc.up.railway.app/?ra={ra}')\n",
    "print(f'Total tables: {len(tables)}')\n",
    "\n",
    "num = int(input(\"Semana 1 ou Semana 2?\"))\n",
    "\n",
    "while num != 1 and num != 2:\n",
    "    print(\"Semana incorreta\")\n",
    "    num = int(input(\"Semana 1 ou Semana 2?\"))\n",
    "\n",
    "#Semana 1\n",
    "semana_1 = tables[0]\n",
    "\n",
    "#Semana 2\n",
    "semana_2 = tables[1]\n",
    "\n",
    "semana_1\n",
    "#segunda = semana_1[\"Seg\"]\n",
    "\n",
    "days = {\n",
    "    \"Seg\":\"Monday\",\n",
    "    \"Ter\":\"Tuesday\",\n",
    "    \"Qua\":\"Wednesday\",\n",
    "    \"Qui\":\"Thursday\",\n",
    "    \"Sex\":\"Friday\"\n",
    "}\n",
    "\n",
    "semana_1.rename(columns=days,inplace=True)\n",
    "semana_2.rename(columns=days,inplace=True)\n",
    "\n",
    "formatted_date_time = now.strftime('%A')\n",
    "dia = str(formatted_date_time)\n",
    "\n",
    "if num == 1 or num == 2:\n",
    "    if num == 1:\n",
    "        print(semana_1[dia][0])\n",
    "        print(semana_1[dia][1])\n",
    "    if num == 2:\n",
    "        print(semana_2[dia][0])\n",
    "        print(semana_2[dia][1])\n",
    "else:\n",
    "    print(\"Aceita apenas semana 1 ou 2, criatura de Deus. Tente novamente.\")"
   ]
  },
  {
   "cell_type": "code",
   "execution_count": 10,
   "metadata": {},
   "outputs": [
    {
     "name": "stdout",
     "output_type": "stream",
     "text": [
      "Friday\n",
      "2024-01-19 11:09:03.548017\n"
     ]
    }
   ],
   "source": [
    "from datetime import datetime\n",
    "\n",
    "now = datetime.now()\n",
    "\n",
    "formatted_date_time = now.strftime('%A')\n",
    "formatted_date_time = str(formatted_date_time)\n",
    "print(formatted_date_time)\n",
    "print(now)"
   ]
  },
  {
   "cell_type": "markdown",
   "metadata": {},
   "source": [
    "### Requests test bot\n"
   ]
  },
  {
   "cell_type": "code",
   "execution_count": 2,
   "metadata": {},
   "outputs": [
    {
     "data": {
      "text/plain": [
       "{'ok': True,\n",
       " 'result': {'id': 6843390780,\n",
       "  'is_bot': True,\n",
       "  'first_name': 'GraceBot',\n",
       "  'username': 'grace_reky_bot',\n",
       "  'can_join_groups': True,\n",
       "  'can_read_all_group_messages': False,\n",
       "  'supports_inline_queries': False}}"
      ]
     },
     "metadata": {},
     "output_type": "display_data"
    }
   ],
   "source": [
    "import requests\n",
    "import json\n",
    "\n",
    "key = '6843390780:AAF1ujROv9KLpKUFZEaJ14D9OH8hc6GdnJ0'\n",
    "url = f'https://api.telegram.org/bot{key}/getMe'\n",
    "response = requests.request(\"GET\", url= url)\n",
    "\n",
    "data = json.loads(response.text)\n",
    "display(data)"
   ]
  },
  {
   "cell_type": "code",
   "execution_count": 12,
   "metadata": {},
   "outputs": [
    {
     "data": {
      "text/plain": [
       "list"
      ]
     },
     "metadata": {},
     "output_type": "display_data"
    }
   ],
   "source": [
    "key = '6843390780:AAF1ujROv9KLpKUFZEaJ14D9OH8hc6GdnJ0'\n",
    "url = f'https://api.telegram.org/bot{key}/getUpdates'\n",
    "response = requests.request(\"GET\", url= url)\n",
    "\n",
    "data = json.loads(response.text)\n",
    "#display(data)\n",
    "display(data[\"result\"][0][\"message\"][\"chat\"][\"id\"])"
   ]
  },
  {
   "cell_type": "code",
   "execution_count": 10,
   "metadata": {},
   "outputs": [
    {
     "data": {
      "text/plain": [
       "{'ok': True,\n",
       " 'result': {'message_id': 4,\n",
       "  'from': {'id': 6843390780,\n",
       "   'is_bot': True,\n",
       "   'first_name': 'GraceBot',\n",
       "   'username': 'grace_reky_bot'},\n",
       "  'chat': {'id': 6898014422,\n",
       "   'first_name': 'Renan',\n",
       "   'last_name': 'Santana',\n",
       "   'type': 'private'},\n",
       "  'date': 1705930820,\n",
       "  'text': 'Milky eh muito linda e gatosa'}}"
      ]
     },
     "metadata": {},
     "output_type": "display_data"
    }
   ],
   "source": [
    "key = '6843390780:AAF1ujROv9KLpKUFZEaJ14D9OH8hc6GdnJ0'\n",
    "url = f'https://api.telegram.org/bot{key}/sendMessage'\n",
    "\n",
    "params = {\n",
    "    \"chat_id\": 6898014422,\n",
    "    \"text\": \"Milky eh muito linda e gatosa\"\n",
    "}\n",
    "\n",
    "response = requests.request(\"GET\", url= url,params=params)\n",
    "\n",
    "data = json.loads(response.text)\n",
    "display(data)"
   ]
  },
  {
   "cell_type": "markdown",
   "metadata": {},
   "source": [
    "# Milky"
   ]
  },
  {
   "cell_type": "code",
   "execution_count": null,
   "metadata": {},
   "outputs": [],
   "source": []
  },
  {
   "cell_type": "markdown",
   "metadata": {},
   "source": [
    "## Notes"
   ]
  },
  {
   "cell_type": "markdown",
   "metadata": {},
   "source": [
    "Telegram firts API token 6843390780:AAF1ujROv9KLpKUFZEaJ14D9OH8hc6GdnJ0"
   ]
  }
 ],
 "metadata": {
  "kernelspec": {
   "display_name": "grade",
   "language": "python",
   "name": "python3"
  },
  "language_info": {
   "codemirror_mode": {
    "name": "ipython",
    "version": 3
   },
   "file_extension": ".py",
   "mimetype": "text/x-python",
   "name": "python",
   "nbconvert_exporter": "python",
   "pygments_lexer": "ipython3",
   "version": "3.11.6"
  }
 },
 "nbformat": 4,
 "nbformat_minor": 2
}
